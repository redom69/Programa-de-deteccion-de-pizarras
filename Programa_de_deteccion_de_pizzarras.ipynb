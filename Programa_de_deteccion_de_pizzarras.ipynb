{
  "nbformat": 4,
  "nbformat_minor": 0,
  "metadata": {
    "colab": {
      "name": "Programa-de-deteccion-de-pizzarras.ipynb",
      "provenance": [],
      "authorship_tag": "ABX9TyNy4a1l0j/23aC5YwYN4pO0",
      "include_colab_link": true
    },
    "kernelspec": {
      "name": "python3",
      "display_name": "Python 3"
    }
  },
  "cells": [
    {
      "cell_type": "markdown",
      "metadata": {
        "id": "view-in-github",
        "colab_type": "text"
      },
      "source": [
        "<a href=\"https://colab.research.google.com/github/redom69/Programa-de-deteccion-de-pizzarras/blob/main/Programa_de_deteccion_de_pizzarras.ipynb\" target=\"_parent\"><img src=\"https://colab.research.google.com/assets/colab-badge.svg\" alt=\"Open In Colab\"/></a>"
      ]
    },
    {
      "cell_type": "code",
      "metadata": {
        "id": "oYYAF2X2pnX1"
      },
      "source": [
        "import os\n",
        "import numpy as np\n",
        "import cv2 as cv\n",
        "from matplotlib import pyplot as plt\n",
        "import math\n",
        "from collections.abc import Iterable\n",
        "\n",
        "#Imports necesarios"
      ],
      "execution_count": 1,
      "outputs": []
    },
    {
      "cell_type": "code",
      "metadata": {
        "id": "ecZqDhNqpzvS"
      },
      "source": [
        "estructura = []  \n",
        "FLANN_INDEX_LSH = 6\n",
        "index_params= dict(algorithm = FLANN_INDEX_LSH,table_number = 6,key_size = 12, multi_probe_level = 1) \n",
        "search_params = dict(checks=100) # Número máximo de hojas a visitar cuando se busca vecinos\n",
        "flann = cv.FlannBasedMatcher(index_params,search_params)\n",
        "descriptores = []\n",
        "keypoint = []\n",
        "diccionario = {}\n",
        "diccContours = {}\n",
        "\n",
        "#Inicializa todos los valores necesarios"
      ],
      "execution_count": 2,
      "outputs": []
    },
    {
      "cell_type": "code",
      "metadata": {
        "id": "eyrobHgXp1yM"
      },
      "source": [
        "def rellenarEstructura(kp,estructura):\n",
        "  contkp = 0\n",
        "  for keyPoint in kp:\n",
        "    x = keyPoint.pt[0]\n",
        "    y = keyPoint.pt[1]\n",
        "    s = keyPoint.size\n",
        "    angulo1 = keyPoint.angle\n",
        "    xB= (w/2) - x\n",
        "    yB =(h/2) - y\n",
        "    modulo = math.sqrt((xB*xB)+(yB*yB))\n",
        "    if(yB==0):\n",
        "      angulo = np.arctan(xB/0.01)\n",
        "    else:\n",
        "      angulo = np.arctan(xB/yB)\n",
        "    estructura.append([des[contkp],s,angulo1,modulo,angulo]) #list[list float float float float]\n",
        "    plt.plot(x,y, marker=\"o\", color=\"red\")\n",
        "    contkp = contkp + 1\n",
        "#Funcion para ordenar los keypoints en un diccionario"
      ],
      "execution_count": 3,
      "outputs": []
    },
    {
      "cell_type": "code",
      "metadata": {
        "id": "MqHsMekpvUpl"
      },
      "source": [
        "def filtradoImagen(img):\n",
        "  dst = cv.fastNlMeansDenoisingColored(img,20,20,7,21) #Reducimos el ruido de la foto para que solo se vea casi el marco y poco mas\n",
        "  filtered_image = cv.Canny(dst,50,500) \n",
        "  ret, thresh = cv.threshold(filtered_image, 127, 255, 0)\n",
        "  contours, hierarchy = cv.findContours(thresh, cv.RETR_TREE, cv.CHAIN_APPROX_SIMPLE)\n",
        "\n",
        "  return thresh"
      ],
      "execution_count": 4,
      "outputs": []
    },
    {
      "cell_type": "code",
      "metadata": {
        "colab": {
          "base_uri": "https://localhost:8080/",
          "height": 128
        },
        "id": "giQehHh0p8KW",
        "outputId": "bf0a507c-d158-4757-aa61-456a9f861826"
      },
      "source": [
        "directory = os.fsencode(r'train1')\n",
        "contimg = 0\n",
        "for entry in os.scandir(directory):\n",
        "  estructura = []  # Estructura dada para almacenar keypoints de cada imagen\n",
        "  ruta  = entry.path.decode(\"utf-8\")\n",
        "  img = cv.imread(ruta,0)\n",
        "\n",
        "  orb = cv.ORB_create() #n features el numero de keypoints nfeatures=2,scaleFactor=1.3,nlevels=2\n",
        "  kp, des = orb.detectAndCompute(img, None)\n",
        "  descriptores.append(des) #funcion que almacena datos del keypoint en la lista\n",
        "  h, w= img.shape\n",
        "  rellenarEstructura(kp,estructura)   #funcion que almacena datos del keypoint en la lista\n",
        "  diccionario[contimg] = estructura\n",
        "  contimg = contimg + 1\n",
        "  \n",
        "  plt.imshow(img,cmap=\"gray\")\n",
        "  plt.show()\n",
        "print(\"Entrenamiento completado\")\n",
        "flann.add(descriptores)\n"
      ],
      "execution_count": 5,
      "outputs": [
        {
          "output_type": "error",
          "ename": "SyntaxError",
          "evalue": "ignored",
          "traceback": [
            "\u001b[0;36m  File \u001b[0;32m\"<ipython-input-5-1a5a5f20c692>\"\u001b[0;36m, line \u001b[0;32m1\u001b[0m\n\u001b[0;31m    directory = os.fsencode(r'train1)\u001b[0m\n\u001b[0m                                     ^\u001b[0m\n\u001b[0;31mSyntaxError\u001b[0m\u001b[0;31m:\u001b[0m EOL while scanning string literal\n"
          ]
        }
      ]
    },
    {
      "cell_type": "code",
      "metadata": {
        "id": "ShPxOtLMtWv8"
      },
      "source": [
        "print(len(descriptores))"
      ],
      "execution_count": null,
      "outputs": []
    },
    {
      "cell_type": "code",
      "metadata": {
        "id": "5vbJED_7rJUG"
      },
      "source": [
        "def enderezarHorizontal(imagen):\n",
        "  gray = cv.cvtColor(imagen, cv.COLOR_BGR2GRAY)\n",
        "  gray = cv.bitwise_not(gray)\n",
        "\n",
        "  # Aplicarle un threshold para dejarla binaria\n",
        "  # (los pixels serán 0 ó 255)\n",
        "  binaria = cv.threshold(gray, 0, 255,\n",
        "                  cv.THRESH_BINARY | cv.THRESH_OTSU)[1]\n",
        "\n",
        "\n",
        "  # Usar la transformada de Hough para encontrar líneas\n",
        "  # en la imagen binarizada, con una resolución de medio\n",
        "  # grado (pi/720) y quedándose sólo con las líneas que\n",
        "  # alcancen puntuación de 1000 o más (que serán las\n",
        "  # más largas)\n",
        "  lineas = cv.HoughLines(binaria, 1, np.pi/720, 1000)\n",
        "\n",
        "  # Recopilemos qué ángulos ha encontrado la transformada\n",
        "  # de hough para cada una de las líneas halladas\n",
        "  angulos = []\n",
        "  if isinstance(lineas, Iterable):\n",
        "    for linea in lineas:\n",
        "        theta = linea[0][1]\n",
        "        angulos.append(theta)\n",
        "\n",
        "    # Ahora contemos cuántas veces aparece cada ángulo\n",
        "    from collections import Counter\n",
        "    veces = Counter(angulos)\n",
        "\n",
        "    # Y quedémonos con el ángulo que más veces se repite\n",
        "    angulo = veces.most_common()[0][0]\n",
        "\n",
        "    # Cambiar el sentido de la rotación si el ángulo es mayor de 180º\n",
        "    if angulo > np.pi/2:\n",
        "      angulo = -angulo\n",
        "\n",
        "    # Ahora enderecemos la imagen, girando (en negativo) el ángulo detectado\n",
        "    (h, w) = imagen.shape[:2]\n",
        "    centro = (w // 2, h // 2)\n",
        "    M = cv.getRotationMatrix2D(centro, angulo, 1.0)\n",
        "\n",
        "    girada = cv.warpAffine(imagen, M, (w, h),\n",
        "                  flags=cv.INTER_CUBIC, borderMode=cv.BORDER_REPLICATE)\n",
        "\n",
        "    # Y volcamos a disco el resultado\n",
        "    return girada"
      ],
      "execution_count": null,
      "outputs": []
    },
    {
      "cell_type": "code",
      "metadata": {
        "id": "p9dGYbc1rfTw"
      },
      "source": [
        "def centroPizarra(img,matriz):\n",
        "  listx = []\n",
        "  listy = []\n",
        "  cont1 = 0\n",
        "  y = matriz.max()\n",
        "\n",
        "  for i in matriz:\n",
        "      cont2 = 0\n",
        "      for j in i:\n",
        "          if (y == j):\n",
        "              listx.append(cont1*10)\n",
        "              listy.append(cont2*10)\n",
        "          cont2 = cont2 + 1;\n",
        "      cont1 = cont1 + 1\n",
        "\n",
        "  sum_x = 0\n",
        "  sum_y = 0\n",
        "\n",
        "  for i in listx:\n",
        "      sum_x = i + sum_x\n",
        "\n",
        "  for i in listy:\n",
        "      sum_y = i +sum_y\n",
        "\n",
        "  img = cv.circle(img, (int(sum_x/len(listx)),int(sum_y/len(listy))), 20, (255, 0, 255), 2)"
      ],
      "execution_count": null,
      "outputs": []
    },
    {
      "cell_type": "code",
      "metadata": {
        "id": "qY75h18frjkh"
      },
      "source": [
        "def rellenarMatrizAcumulacion(kp1,m,matriz,img1):\n",
        "  p1x= kp1[m.queryIdx].pt[0]\n",
        "  p1y = kp1[m.queryIdx].pt[1]\n",
        "  sizeAc= kp1[m.queryIdx].size\n",
        "  sizeDicc = diccionario[m.imgIdx][m.trainIdx][1]\n",
        "  size = sizeAc / sizeDicc\n",
        "  modulo = diccionario[m.imgIdx][m.trainIdx][3]\n",
        "  angulo = diccionario[m.imgIdx][m.trainIdx][4] + diccionario[m.imgIdx][m.trainIdx][2] - kp1[m.queryIdx].angle\n",
        "  cX = (modulo * math.cos(angulo)) * size\n",
        "  cY = (modulo * math.sin(angulo)) * size\n",
        "  x = int((p1x + cX) // 10)\n",
        "  y = int((p1y + cY) // 10)\n",
        "  if ((x >= 0) and (x < yImagen // 10) and (y >= 0) and (y < xImagen // 10)):\n",
        "      matriz[x, y] = matriz[x, y] + 1\n",
        "      plt.plot(x*10,y*10, marker=\"o\", color=\"red\")"
      ],
      "execution_count": null,
      "outputs": []
    },
    {
      "cell_type": "code",
      "metadata": {
        "id": "ed23y0Q8qma1"
      },
      "source": [
        "directory = os.fsencode(r'test1')\n",
        "for entry in os.scandir(directory):\n",
        "  ruta = entry.path.decode(\"utf-8\")\n",
        "  img1 = cv.imread(ruta,0)\n",
        "\n",
        "  xImagen, yImagen = img1.shape\n",
        "\n",
        "  orb = cv.ORB_create() #n features el numero de keypoints nfeatures=2,scaleFactor=1.3,nlevels=2\n",
        "  kp1, des1 = orb.detectAndCompute(img1, None)\n",
        "  matches = flann.knnMatch(des1, k=6)\n",
        "  matriz = np.zeros((yImagen // 10, xImagen // 10))\n",
        "\n",
        "  for r in matches:\n",
        "    for m in r:\n",
        "      rellenarMatrizAcumulacion(kp1,m,matriz,img1)\n",
        "\n",
        "  plt.imshow(img1,cmap=\"gray\")\n",
        "  plt.show()"
      ],
      "execution_count": null,
      "outputs": []
    },
    {
      "cell_type": "code",
      "metadata": {
        "id": "mAvwFjCGqo8R"
      },
      "source": [
        ""
      ],
      "execution_count": null,
      "outputs": []
    }
  ]
}